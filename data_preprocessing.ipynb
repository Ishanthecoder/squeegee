{
 "cells": [
  {
   "cell_type": "code",
   "execution_count": 1,
   "metadata": {},
   "outputs": [],
   "source": [
    "import numpy as np\n",
    "import pandas as pd\n",
    "from matplotlib import pyplot as plt\n",
    "from astropy.time import Time\n",
    "from astropy.timeseries import LombScargle"
   ]
  },
  {
   "cell_type": "code",
   "execution_count": 18,
   "metadata": {},
   "outputs": [],
   "source": [
    "data = pd.read_csv('antares_raw.csv')\n",
    "good = (data['Band']=='Vis.') & ([m[0] != '<' for m in data['Magnitude'].values])\n",
    "data = data[good]\n",
    "dates = Time(data['JD'],format='jd').decimalyear\n",
    "mags = data['Magnitude'].astype(float).values\n",
    "out = pd.DataFrame({'time':dates,'Mag':mags})\n",
    "out.to_csv('antares_processed.csv',index=False)"
   ]
  },
  {
   "cell_type": "code",
   "execution_count": 19,
   "metadata": {},
   "outputs": [
    {
     "name": "stderr",
     "output_type": "stream",
     "text": [
      "WARNING: ErfaWarning: ERFA function \"d2dtf\" yielded 10 of \"dubious year (Note 5)\" [astropy._erfa.core]\n",
      "WARNING: ErfaWarning: ERFA function \"dtf2d\" yielded 10 of \"dubious year (Note 6)\" [astropy._erfa.core]\n",
      "WARNING: ErfaWarning: ERFA function \"dtf2d\" yielded 4 of \"dubious year (Note 6)\" [astropy._erfa.core]\n"
     ]
    }
   ],
   "source": [
    "data = pd.read_csv('VYCMa_raw.csv')\n",
    "good = (data['Band']=='Vis.') & ([m[0] != '<' for m in data['Magnitude'].values])\n",
    "data = data[good]\n",
    "dates = Time(data['JD'],format='jd').decimalyear\n",
    "mags = data['Magnitude'].astype(float).values\n",
    "out = pd.DataFrame({'time':dates,'Mag':mags})\n",
    "out.to_csv('VYCMa_processed.csv',index=False)"
   ]
  },
  {
   "cell_type": "code",
   "execution_count": null,
   "metadata": {},
   "outputs": [],
   "source": []
  }
 ],
 "metadata": {
  "kernelspec": {
   "display_name": "Python 3",
   "language": "python",
   "name": "python3"
  },
  "language_info": {
   "codemirror_mode": {
    "name": "ipython",
    "version": 3
   },
   "file_extension": ".py",
   "mimetype": "text/x-python",
   "name": "python",
   "nbconvert_exporter": "python",
   "pygments_lexer": "ipython3",
   "version": "3.7.4"
  }
 },
 "nbformat": 4,
 "nbformat_minor": 4
}
