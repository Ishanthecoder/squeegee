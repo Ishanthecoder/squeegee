{
 "cells": [
  {
   "cell_type": "code",
   "execution_count": 2,
   "metadata": {},
   "outputs": [],
   "source": [
    "import numpy as np\n",
    "import pandas as pd\n",
    "from matplotlib import pyplot as plt\n",
    "from astropy.time import Time\n",
    "from astropy.timeseries import LombScargle"
   ]
  },
  {
   "cell_type": "code",
   "execution_count": 3,
   "metadata": {},
   "outputs": [
    {
     "name": "stderr",
     "output_type": "stream",
     "text": [
      "WARNING: ErfaWarning: ERFA function \"d2dtf\" yielded 152 of \"dubious year (Note 5)\" [astropy._erfa.core]\n",
      "WARNING: ErfaWarning: ERFA function \"dtf2d\" yielded 152 of \"dubious year (Note 6)\" [astropy._erfa.core]\n",
      "WARNING: ErfaWarning: ERFA function \"dtf2d\" yielded 144 of \"dubious year (Note 6)\" [astropy._erfa.core]\n"
     ]
    }
   ],
   "source": [
    "data = pd.read_csv('antares_raw.csv')\n",
    "good = (data['Band']=='Vis.') & ([m[0] != '<' for m in data['Magnitude'].values])\n",
    "data = data[good]\n",
    "dates = Time(data['JD'],format='jd').decimalyear\n",
    "mags = data['Magnitude'].astype(float).values\n",
    "out = pd.DataFrame({'time':dates,'Mag':mags})\n",
    "out.to_csv('antares_processed.csv',index=False)"
   ]
  },
  {
   "cell_type": "code",
   "execution_count": 4,
   "metadata": {},
   "outputs": [
    {
     "name": "stderr",
     "output_type": "stream",
     "text": [
      "WARNING: ErfaWarning: ERFA function \"d2dtf\" yielded 10 of \"dubious year (Note 5)\" [astropy._erfa.core]\n",
      "WARNING: ErfaWarning: ERFA function \"dtf2d\" yielded 10 of \"dubious year (Note 6)\" [astropy._erfa.core]\n",
      "WARNING: ErfaWarning: ERFA function \"dtf2d\" yielded 4 of \"dubious year (Note 6)\" [astropy._erfa.core]\n"
     ]
    }
   ],
   "source": [
    "data = pd.read_csv('VYCMa_raw.csv')\n",
    "good = (data['Band']=='Vis.') & ([m[0] != '<' for m in data['Magnitude'].values])\n",
    "data = data[good]\n",
    "dates = Time(data['JD'],format='jd').decimalyear\n",
    "mags = data['Magnitude'].astype(float).values\n",
    "out = pd.DataFrame({'time':dates,'Mag':mags})\n",
    "out.to_csv('VYCMa_processed.csv',index=False)"
   ]
  },
  {
   "cell_type": "code",
   "execution_count": 5,
   "metadata": {},
   "outputs": [
    {
     "name": "stdout",
     "output_type": "stream",
     "text": [
      "5.097908547456639\n"
     ]
    }
   ],
   "source": [
    "stars = ['Alpha Ori','Alpha Sco','VY CMa']\n",
    "temps = [3650.0,3660.0,3490.0]\n",
    "logl_aori = np.log10(np.power(887,2.0)*np.power(3650.0/5778.0,4))\n",
    "logl_asco = np.log10(np.power(680,2.0)*np.power(3660.0/5778.0,4))\n",
    "logl_vycma = np.log10(np.power(2069,2.0)*np.power(3490.0/5778.0,4))\n",
    "lums = [logl_aori,logl_asco,logl_vycma]\n",
    "logg = [-0.5,-0.15,-0.6]\n",
    "df = pd.DataFrame()"
   ]
  },
  {
   "cell_type": "code",
   "execution_count": null,
   "metadata": {},
   "outputs": [],
   "source": []
  }
 ],
 "metadata": {
  "kernelspec": {
   "display_name": "Python 3",
   "language": "python",
   "name": "python3"
  },
  "language_info": {
   "codemirror_mode": {
    "name": "ipython",
    "version": 3
   },
   "file_extension": ".py",
   "mimetype": "text/x-python",
   "name": "python",
   "nbconvert_exporter": "python",
   "pygments_lexer": "ipython3",
   "version": "3.7.4"
  }
 },
 "nbformat": 4,
 "nbformat_minor": 4
}
