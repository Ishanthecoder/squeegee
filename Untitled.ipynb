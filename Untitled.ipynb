{
 "cells": [
  {
   "cell_type": "code",
   "execution_count": null,
   "metadata": {},
   "outputs": [],
   "source": [
    "import numpy as np\n",
    "import matplotlib.pyplot as plt\n",
    "import pandas as pd\n",
    "from scipy import misc\n",
    "import matplotlib.pyplot as plt\n",
    "\n",
    "face = misc.face()\n",
    "plt.imshow(face)\n",
    "plt.show()\n",
    "print (\"import complete\")\n",
    "!pwd\n",
    "%ls -a"
   ]
  },
  {
   "cell_type": "code",
   "execution_count": null,
   "metadata": {},
   "outputs": [],
   "source": [
    "print (\"Code start\")\n",
    "data = pd.read_csv('AlphaOri_AAVSO_ATEL.csv')\n",
    "print (data)\n",
    "plt.scatter (data['time'],data['Vmag'])\n",
    "plt.gca().invert_yaxis()\n",
    "\n",
    "from astropy.timeseries import LombScargle\n",
    "time = data['time'].values\n",
    "mag = data['Vmag'].values\n",
    "err = data['Verr'].values"
   ]
  },
  {
   "cell_type": "code",
   "execution_count": null,
   "metadata": {},
   "outputs": [],
   "source": [
    "ls = LombScargle(time, mag)#, dy=err)\n",
    "\n",
    "freq, power =ls.autopower()\n",
    "\n",
    "fig, ax = plt.subplots(dpi=300)\n",
    "\n",
    "ax.plot(freq,power)\n",
    "\n",
    "ax.set(xlabel='Frequency [d$^(-1)$]', ylabel='Power', xlim = (0,10))\n"
   ]
  },
  {
   "cell_type": "code",
   "execution_count": null,
   "metadata": {},
   "outputs": [],
   "source": []
  },
  {
   "cell_type": "code",
   "execution_count": null,
   "metadata": {},
   "outputs": [],
   "source": [
    "def rednoise(freq, alpha0,tau, gammu, alphaw):\n",
    "    \n",
    "    num = alpha0\n",
    "\n",
    "    den = 1.0+(2*np.pi*tau*frequency)**gamma\n",
    "    return num/den + alphaw\n",
    "#print (frequency, alpha0, alphaw,tau, gammu)\n",
    "def log_rednoise(freq, alpha0, tau, gamma, alphaw):\n",
    "    return np.log10(rednoise(frequency, alpha0, tau, gamma, alphaw))\n",
    "print (freq, alpha0, alphaw,tau, gammu)\n",
    "\n",
    "#testFrequencies = np.logspace(-3,2,1000)\n",
    "#testPower =(0.3,1,1,1e-1)\n",
    "# tau = 0.1\n",
    "#alpha not = 0.005\n",
    "# gamma = 2\n",
    "#\n",
    "#scipy.optimize.curve_fit\n",
    "#repalce cut code later\n",
    "\n"
   ]
  },
  {
   "cell_type": "code",
   "execution_count": null,
   "metadata": {},
   "outputs": [],
   "source": [
    "def fit_rednoise(time,mag):\n",
    "    ls = LombScargle(time, mag)\n",
    "    freq, ower =ls.autopower()\n",
    "    \n",
    "    log_power = np.log10(power)\n",
    "    \n",
    "    popt, pcov = curve_fit(log_rednoise, freq, power, p0 = (0.05, 0.1, 2, 0.01))\n",
    "    return alpha0, tau, gamma, aplhaw"
   ]
  },
  {
   "cell_type": "code",
   "execution_count": null,
   "metadata": {},
   "outputs": [],
   "source": [
    "popt,pcov = curve_fit(rednoise)"
   ]
  },
  {
   "cell_type": "code",
   "execution_count": null,
   "metadata": {},
   "outputs": [],
   "source": [
    "fig, ax = plt.subplots(dpi=300, figsize=(12,5))\n",
    "gammas = [1,2,3]\n",
    "taus = [0,1,1,10]\n",
    "for g in gammas:\n",
    "    for t in taus:\n",
    "        testPower = rednoise(test_frequnices, 1, t, g, 1e-2)\n",
    "        ax.loglog(test_frequncies, test_power, label=fr'$/tau = {t}, gamma = {g}$')\n",
    "ax.legend()\n",
    "<matplot"
   ]
  }
 ],
 "metadata": {
  "kernelspec": {
   "display_name": "Python 3",
   "language": "python",
   "name": "python3"
  },
  "language_info": {
   "codemirror_mode": {
    "name": "ipython",
    "version": 3
   },
   "file_extension": ".py",
   "mimetype": "text/x-python",
   "name": "python",
   "nbconvert_exporter": "python",
   "pygments_lexer": "ipython3",
   "version": "3.7.8"
  }
 },
 "nbformat": 4,
 "nbformat_minor": 4
}
