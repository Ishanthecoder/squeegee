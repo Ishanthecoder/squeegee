{
 "cells": [
  {
   "cell_type": "code",
   "execution_count": null,
   "metadata": {},
   "outputs": [],
   "source": [
    "import numpy as np\n",
    "import matplotlib.pyplot as plt\n",
    "import pandas as pd\n",
    "from scipy import misc\n",
    "import matplotlib.pyplot as plt\n",
    "from astropy.timeseries import LombScargle"
   ]
  },
  {
   "cell_type": "code",
   "execution_count": null,
   "metadata": {},
   "outputs": [],
   "source": [
    "face = misc.face()\n",
    "plt.imshow(face)\n",
    "plt.show()\n",
    "print (\"import complete\")\n",
    "!pwd\n",
    "%ls -a"
   ]
  },
  {
   "cell_type": "code",
   "execution_count": null,
   "metadata": {},
   "outputs": [],
   "source": [
    "print (\"Code start\")\n",
    "data = pd.read_csv('AlphaOri_AAVSO_ATEL.csv')\n",
    "print (data)"
   ]
  },
  {
   "cell_type": "code",
   "execution_count": null,
   "metadata": {},
   "outputs": [],
   "source": [
    "data ['time']"
   ]
  },
  {
   "cell_type": "code",
   "execution_count": null,
   "metadata": {},
   "outputs": [],
   "source": [
    "fig, ax = plt.subplots(figsize=(12,5), dpi = 300)\n",
    "plt.scatter (data['time'],data['Vmag'])\n",
    "plt.gca().invert_yaxis()\n",
    "\n",
    "ax.set(xlabel='Time[years]', ylabel='V [mag]')"
   ]
  },
  {
   "cell_type": "code",
   "execution_count": null,
   "metadata": {},
   "outputs": [],
   "source": []
  },
  {
   "cell_type": "code",
   "execution_count": null,
   "metadata": {},
   "outputs": [],
   "source": [
    "fig, ax = plt.subplots(figsize=(12,5), dpi = 300)\n",
    "plt.scatter (data['time'],data['Vmag'])\n",
    "plt.gca().invert_yaxis()\n",
    "\n",
    "\n",
    "ax.set(xlabel='Time[years]', ylabel='V [mag]')\n",
    "\n",
    "time = data['time'].values\n",
    "mag = data['Vmag'].values\n",
    "err = data['Verr'].values\n",
    "\n",
    "noDip = time < 2019.5\n",
    "time = time[noDip]\n",
    "mag = mag[noDip]\n",
    "err = err[noDip]\n",
    "print(noDip)\n",
    "\n",
    "ls = LombScargle(time, mag)#, dy=err)\n",
    "\n",
    "freq, power =ls.autopower()"
   ]
  },
  {
   "cell_type": "code",
   "execution_count": null,
   "metadata": {},
   "outputs": [],
   "source": [
    "fig, ax = plt.subplots(dpi=300)\n",
    "\n",
    "ax.plot(freq,power)\n",
    "\n",
    "ax.set(xlabel='Frequency [d$^{-1}$]', ylabel='Power', title = 'Periodogram', xlim = (0,10))\n",
    "\n",
    "freq[np.argmax(power)]"
   ]
  },
  {
   "cell_type": "code",
   "execution_count": null,
   "metadata": {},
   "outputs": [],
   "source": [
    "def rednoise(freq, alpha0,tau, gammu, alphaw):\n",
    "    \n",
    "    num = alpha0\n",
    "\n",
    "    den = 1.0+(2*np.pi*tau*freq)**gamma\n",
    "    return num/den + alphaw\n",
    "#print (frequency, alpha0, alphaw,tau, gammu)\n",
    "\n",
    "\n",
    "fig, ax = plt.subplots(dpi=300)\n",
    "\n",
    "ax.plot(1/freq, power)\n",
    "ax.set(xlabel='Period[Days]', ylabel='Power',title= 'Periodogram',)"
   ]
  },
  {
   "cell_type": "code",
   "execution_count": null,
   "metadata": {},
   "outputs": [],
   "source": [
    "from scipy.optimize import curve_fit\n",
    "\n",
    "popt,pcov = curve_fit(rednoise, freq, power, p0 = (0.05, 0.1, 2, 0.01))\n",
    "\n",
    "fig = plt.figure(dpi=300)\n",
    "plt.plot(freq, power)\n",
    "plt.plot(freq,rednoise(freq, *popt))\n",
    "plt.xscale('log')\n",
    "plt.yscale('log')\n",
    "\n",
    "fig, ax = plt.subplots(dpi=300)\n",
    "\n",
    "ax.plot(freq, power)\n",
    "ax.plot(test_frequencies, test_power)\n",
    "\n",
    "ax.set(xlabel='Frequency[yr$^{-1}$]', ylabel='Power',title= 'Periodogram', xscale= 'log', yscale='log')"
   ]
  },
  {
   "cell_type": "code",
   "execution_count": null,
   "metadata": {},
   "outputs": [],
   "source": [
    "def rednoise(freq, alpha0, tau, gamma, alphaw):\n",
    "    num = alpha0\n",
    "    den = 1.0 + (2*np.pi*tau*freq)**gamma\n",
    "    return num/den + alphaw"
   ]
  },
  {
   "cell_type": "code",
   "execution_count": null,
   "metadata": {},
   "outputs": [],
   "source": [
    "def log_rednoise(freq, alpha0, tau, gamma, alphaw):\n",
    "    return np.log10(rednoise(freq, alpha0, tau, gamma, alphaw))\n",
    "print (freq, alpha0, alphaw,tau, gammu)"
   ]
  },
  {
   "cell_type": "code",
   "execution_count": null,
   "metadata": {},
   "outputs": [],
   "source": [
    "def fit_rednoise(time,mag):\n",
    "    ls = LombScargle(time, mag)\n",
    "    freq, ower =ls.autopower()"
   ]
  },
  {
   "cell_type": "code",
   "execution_count": null,
   "metadata": {},
   "outputs": [],
   "source": [
    "def log_power = np.log10(power)\n",
    "    \n",
    "    popt, pcov = curve_fit(log_rednoise, freq, power, p0 = (0.05, 0.1, 2, 0.01))\n",
    "    return alpha0, tau, gamma, aplhaw"
   ]
  },
  {
   "cell_type": "code",
   "execution_count": null,
   "metadata": {},
   "outputs": [],
   "source": [
    "fit_rednoise(time, mag)\n",
    "Arg = fit_rednoise(time, mag)\n",
    "Arg\n",
    "\n",
    "fs = np.logspace(-3,2,1000)\n",
    "p = rednoise(fs,*Arg)\n",
    "plt.plot(freq, power)\n",
    "plt.plot(fs,p)\n",
    "plt.xscale('log')\n",
    "plt.yscale('log')\n",
    "\n",
    "fig, ax = plt.subplots(figsize=(12,5), dpi=300)\n",
    "\n",
    "gammas = [1,2,3]\n",
    "tau = [0.1, 1, 10]\n",
    "for g in gammas:\n",
    "    for t in tau:\n",
    "        test_power = rednoise(test_frequencies, 1, t, g, 1e-2)\n",
    "        ax.plot(test_frequencies, test_power, label=fr'$\\tau={t},\\gamma={g}$')"
   ]
  }
 ],
 "metadata": {
  "kernelspec": {
   "display_name": "Python 3",
   "language": "python",
   "name": "python3"
  },
  "language_info": {
   "codemirror_mode": {
    "name": "ipython",
    "version": 3
   },
   "file_extension": ".py",
   "mimetype": "text/x-python",
   "name": "python",
   "nbconvert_exporter": "python",
   "pygments_lexer": "ipython3",
   "version": "3.7.8"
  }
 },
 "nbformat": 4,
 "nbformat_minor": 4
}
